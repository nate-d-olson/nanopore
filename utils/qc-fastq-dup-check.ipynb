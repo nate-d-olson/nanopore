{
 "cells": [
  {
   "cell_type": "raw",
   "metadata": {},
   "source": [
    "<link rel=\"stylesheet\" href=\"https://cdn.jupyter.org/notebook/5.1.0/style/style.min.css\">"
   ]
  },
  {
   "cell_type": "markdown",
   "metadata": {},
   "source": [
    "# GIAB Nanopore Quality Control\n",
    "\n",
    "Runs per-sample QC on Oxford Nanopore data generated for the genome in a bottle consortium. Requires reads to have been basecalled and aligned to the reference genome using the included pipeline."
   ]
  },
  {
   "cell_type": "code",
   "execution_count": 1,
   "metadata": {},
   "outputs": [
    {
     "name": "stdout",
     "output_type": "stream",
     "text": [
      "Ran on:  Apr 23, 2019 at 09:01 AM\n"
     ]
    }
   ],
   "source": [
    "import datetime\n",
    "print(\"Ran on: \", datetime.datetime.today().strftime(\"%b %d, %Y at %I:%M %p\"))"
   ]
  },
  {
   "cell_type": "markdown",
   "metadata": {},
   "source": [
    "## Pre-processing\n",
    "Load metadata, load fastq and bam statistics, combine statistics..."
   ]
  },
  {
   "cell_type": "code",
   "execution_count": 9,
   "metadata": {},
   "outputs": [],
   "source": [
    "import collections\n",
    "import numpy\n",
    "import os\n",
    "import pandas\n",
    "import sys\n",
    "import tqdm\n",
    "\n",
    "from biorpy import r, iimage\n",
    "\n",
    "sys.path.append(\"/oak/stanford/groups/msalit/ndolson/ONT-pipe-run-logs\")\n",
    "import experiments\n",
    "import qc"
   ]
  },
  {
   "cell_type": "code",
   "execution_count": 10,
   "metadata": {},
   "outputs": [],
   "source": [
    "import importlib\n",
    "_ = importlib.reload(qc)"
   ]
  },
  {
   "cell_type": "code",
   "execution_count": 11,
   "metadata": {},
   "outputs": [],
   "source": [
    "metadata = experiments.load_experiment_metadata()"
   ]
  },
  {
   "cell_type": "code",
   "execution_count": 13,
   "metadata": {},
   "outputs": [],
   "source": [
    "fastq_results = {}\n",
    "\n",
    "for flowcell_label, flowcell_info in list(metadata.items()):\n",
    "    results = []\n",
    "    for run_info in flowcell_info[\"datasets\"]:\n",
    "        run_label = run_info[\"name\"]\n",
    "        for fastq in qc.fastq_paths(flowcell_label, run_label):\n",
    "            results.append(qc.get_fastq_stats(fastq))\n",
    "        \n",
    "        if len(results) > 0:\n",
    "            cur_results = pandas.concat(results).set_index(\"read_id\")\n",
    "            if cur_results.index.duplicated().any():\n",
    "                print(f\"WARNING: duplicated reads exist in fastq for run {run_info['name']}!\")\n",
    "                print(sum(cur_results.index.duplicated()))\n",
    "                print(cur_results.loc[cur_results.index.duplicated()])\n",
    "            cur_results = cur_results.loc[~cur_results.index.duplicated()]\n",
    "            fastq_results[run_label] = cur_results\n",
    "        else:\n",
    "            print(f\"WARNING: run fastq is apparently empty: {run_label}\")"
   ]
  },
  {
   "cell_type": "code",
   "execution_count": null,
   "metadata": {},
   "outputs": [],
   "source": [
    " "
   ]
  }
 ],
 "metadata": {
  "kernelspec": {
   "display_name": "Python 3",
   "language": "python",
   "name": "python3"
  },
  "language_info": {
   "codemirror_mode": {
    "name": "ipython",
    "version": 3
   },
   "file_extension": ".py",
   "mimetype": "text/x-python",
   "name": "python",
   "nbconvert_exporter": "python",
   "pygments_lexer": "ipython3",
   "version": "3.6.1"
  }
 },
 "nbformat": 4,
 "nbformat_minor": 2
}
